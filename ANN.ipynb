{
 "cells": [
  {
   "cell_type": "code",
   "execution_count": 1,
   "id": "24418e27",
   "metadata": {},
   "outputs": [
    {
     "name": "stderr",
     "output_type": "stream",
     "text": [
      "c:\\users\\rahee\\appdata\\local\\programs\\python\\python36\\lib\\site-packages\\tensorflow\\python\\framework\\dtypes.py:516: FutureWarning: Passing (type, 1) or '1type' as a synonym of type is deprecated; in a future version of numpy, it will be understood as (type, (1,)) / '(1,)type'.\n",
      "  _np_qint8 = np.dtype([(\"qint8\", np.int8, 1)])\n",
      "c:\\users\\rahee\\appdata\\local\\programs\\python\\python36\\lib\\site-packages\\tensorflow\\python\\framework\\dtypes.py:517: FutureWarning: Passing (type, 1) or '1type' as a synonym of type is deprecated; in a future version of numpy, it will be understood as (type, (1,)) / '(1,)type'.\n",
      "  _np_quint8 = np.dtype([(\"quint8\", np.uint8, 1)])\n",
      "c:\\users\\rahee\\appdata\\local\\programs\\python\\python36\\lib\\site-packages\\tensorflow\\python\\framework\\dtypes.py:518: FutureWarning: Passing (type, 1) or '1type' as a synonym of type is deprecated; in a future version of numpy, it will be understood as (type, (1,)) / '(1,)type'.\n",
      "  _np_qint16 = np.dtype([(\"qint16\", np.int16, 1)])\n",
      "c:\\users\\rahee\\appdata\\local\\programs\\python\\python36\\lib\\site-packages\\tensorflow\\python\\framework\\dtypes.py:519: FutureWarning: Passing (type, 1) or '1type' as a synonym of type is deprecated; in a future version of numpy, it will be understood as (type, (1,)) / '(1,)type'.\n",
      "  _np_quint16 = np.dtype([(\"quint16\", np.uint16, 1)])\n",
      "c:\\users\\rahee\\appdata\\local\\programs\\python\\python36\\lib\\site-packages\\tensorflow\\python\\framework\\dtypes.py:520: FutureWarning: Passing (type, 1) or '1type' as a synonym of type is deprecated; in a future version of numpy, it will be understood as (type, (1,)) / '(1,)type'.\n",
      "  _np_qint32 = np.dtype([(\"qint32\", np.int32, 1)])\n",
      "c:\\users\\rahee\\appdata\\local\\programs\\python\\python36\\lib\\site-packages\\tensorflow\\python\\framework\\dtypes.py:525: FutureWarning: Passing (type, 1) or '1type' as a synonym of type is deprecated; in a future version of numpy, it will be understood as (type, (1,)) / '(1,)type'.\n",
      "  np_resource = np.dtype([(\"resource\", np.ubyte, 1)])\n",
      "c:\\users\\rahee\\appdata\\local\\programs\\python\\python36\\lib\\site-packages\\tensorboard\\compat\\tensorflow_stub\\dtypes.py:541: FutureWarning: Passing (type, 1) or '1type' as a synonym of type is deprecated; in a future version of numpy, it will be understood as (type, (1,)) / '(1,)type'.\n",
      "  _np_qint8 = np.dtype([(\"qint8\", np.int8, 1)])\n",
      "c:\\users\\rahee\\appdata\\local\\programs\\python\\python36\\lib\\site-packages\\tensorboard\\compat\\tensorflow_stub\\dtypes.py:542: FutureWarning: Passing (type, 1) or '1type' as a synonym of type is deprecated; in a future version of numpy, it will be understood as (type, (1,)) / '(1,)type'.\n",
      "  _np_quint8 = np.dtype([(\"quint8\", np.uint8, 1)])\n",
      "c:\\users\\rahee\\appdata\\local\\programs\\python\\python36\\lib\\site-packages\\tensorboard\\compat\\tensorflow_stub\\dtypes.py:543: FutureWarning: Passing (type, 1) or '1type' as a synonym of type is deprecated; in a future version of numpy, it will be understood as (type, (1,)) / '(1,)type'.\n",
      "  _np_qint16 = np.dtype([(\"qint16\", np.int16, 1)])\n",
      "c:\\users\\rahee\\appdata\\local\\programs\\python\\python36\\lib\\site-packages\\tensorboard\\compat\\tensorflow_stub\\dtypes.py:544: FutureWarning: Passing (type, 1) or '1type' as a synonym of type is deprecated; in a future version of numpy, it will be understood as (type, (1,)) / '(1,)type'.\n",
      "  _np_quint16 = np.dtype([(\"quint16\", np.uint16, 1)])\n",
      "c:\\users\\rahee\\appdata\\local\\programs\\python\\python36\\lib\\site-packages\\tensorboard\\compat\\tensorflow_stub\\dtypes.py:545: FutureWarning: Passing (type, 1) or '1type' as a synonym of type is deprecated; in a future version of numpy, it will be understood as (type, (1,)) / '(1,)type'.\n",
      "  _np_qint32 = np.dtype([(\"qint32\", np.int32, 1)])\n",
      "c:\\users\\rahee\\appdata\\local\\programs\\python\\python36\\lib\\site-packages\\tensorboard\\compat\\tensorflow_stub\\dtypes.py:550: FutureWarning: Passing (type, 1) or '1type' as a synonym of type is deprecated; in a future version of numpy, it will be understood as (type, (1,)) / '(1,)type'.\n",
      "  np_resource = np.dtype([(\"resource\", np.ubyte, 1)])\n"
     ]
    },
    {
     "name": "stdout",
     "output_type": "stream",
     "text": [
      "Downloading data from https://storage.googleapis.com/tensorflow/tf-keras-datasets/mnist.npz\n",
      "11493376/11490434 [==============================] - 17s 2us/step\n"
     ]
    }
   ],
   "source": [
    "import tensorflow as tf\n",
    "from tensorflow import keras\n",
    "import matplotlib.pyplot as plt\n",
    "import numpy as np\n",
    "\n",
    "mnist = keras.datasets.mnist\n",
    "(x_train_full, y_train_full),(x_test, y_test) = mnist.load_data()"
   ]
  },
  {
   "cell_type": "code",
   "execution_count": 2,
   "id": "fe8a8232",
   "metadata": {},
   "outputs": [
    {
     "data": {
      "text/plain": [
       "<matplotlib.image.AxesImage at 0x219343d07b8>"
      ]
     },
     "execution_count": 2,
     "metadata": {},
     "output_type": "execute_result"
    },
    {
     "data": {
      "image/png": "[encoded data removed]",
      "text/plain": [
       "<Figure size 432x288 with 1 Axes>"
      ]
     },
     "metadata": {
      "needs_background": "light"
     },
     "output_type": "display_data"
    }
   ],
   "source": [
    "plt.imshow(x_train_full[2])"
   ]
  },
  {
   "cell_type": "code",
   "execution_count": 3,
   "id": "04332047",
   "metadata": {},
   "outputs": [],
   "source": [
    "x_train_norm = x_train_full/255.\n",
    "x_test_norm = x_test/255.\n",
    "\n",
    "x_valid, x_train = x_train_norm[:5000], x_train_norm[5000:]\n",
    "y_valid, y_train = y_train_full[:5000], y_train_full[5000:]\n",
    "\n",
    "x_test = x_test_norm"
   ]
  },
  {
   "cell_type": "code",
   "execution_count": 4,
   "id": "7fd4ee97",
   "metadata": {},
   "outputs": [
    {
     "name": "stdout",
     "output_type": "stream",
     "text": [
      "WARNING:tensorflow:From c:\\users\\rahee\\appdata\\local\\programs\\python\\python36\\lib\\site-packages\\tensorflow\\python\\ops\\init_ops.py:1251: calling VarianceScaling.__init__ (from tensorflow.python.ops.init_ops) with dtype is deprecated and will be removed in a future version.\n",
      "Instructions for updating:\n",
      "Call initializer instance with the dtype argument instead of passing it to the constructor\n"
     ]
    }
   ],
   "source": [
    "model = keras.models.Sequential()\n",
    "\n",
    "model.add(keras.layers.Flatten(input_shape=[28,28]))\n",
    "model.add(keras.layers.Dense(300, activation=\"relu\"))\n",
    "model.add(keras.layers.Dense(100, activation=\"relu\"))\n",
    "model.add(keras.layers.Dense(10, activation=\"softmax\"))"
   ]
  },
  {
   "cell_type": "code",
   "execution_count": 5,
   "id": "382f690c",
   "metadata": {},
   "outputs": [
    {
     "name": "stdout",
     "output_type": "stream",
     "text": [
      "Model: \"sequential\"\n",
      "_________________________________________________________________\n",
      "Layer (type)                 Output Shape              Param #   \n",
      "=================================================================\n",
      "flatten (Flatten)            (None, 784)               0         \n",
      "_________________________________________________________________\n",
      "dense (Dense)                (None, 300)               235500    \n",
      "_________________________________________________________________\n",
      "dense_1 (Dense)              (None, 100)               30100     \n",
      "_________________________________________________________________\n",
      "dense_2 (Dense)              (None, 10)                1010      \n",
      "=================================================================\n",
      "Total params: 266,610\n",
      "Trainable params: 266,610\n",
      "Non-trainable params: 0\n",
      "_________________________________________________________________\n"
     ]
    }
   ],
   "source": [
    "model.summary()"
   ]
  },
  {
   "cell_type": "code",
   "execution_count": 6,
   "id": "3c516b33",
   "metadata": {},
   "outputs": [],
   "source": [
    "model.compile(loss=\"sparse_categorical_crossentropy\",\n",
    "              optimizer=\"sgd\",\n",
    "              metrics=[\"accuracy\"])"
   ]
  },
  {
   "cell_type": "code",
   "execution_count": 7,
   "id": "c506268e",
   "metadata": {},
   "outputs": [
    {
     "name": "stdout",
     "output_type": "stream",
     "text": [
      "Train on 55000 samples, validate on 5000 samples\n",
      "Epoch 1/30\n",
      "55000/55000 [==============================] - 5s 85us/sample - loss: 0.5955 - acc: 0.8491 - val_loss: 0.3055 - val_acc: 0.9136\n",
      "Epoch 2/30\n",
      "55000/55000 [==============================] - 5s 85us/sample - loss: 0.2889 - acc: 0.9169 - val_loss: 0.2392 - val_acc: 0.9332\n",
      "Epoch 3/30\n",
      "55000/55000 [==============================] - 5s 84us/sample - loss: 0.2378 - acc: 0.9324 - val_loss: 0.2002 - val_acc: 0.9434\n",
      "Epoch 4/30\n",
      "55000/55000 [==============================] - 4s 79us/sample - loss: 0.2040 - acc: 0.9411 - val_loss: 0.1745 - val_acc: 0.9520\n",
      "Epoch 5/30\n",
      "55000/55000 [==============================] - 5s 88us/sample - loss: 0.1786 - acc: 0.9494 - val_loss: 0.1575 - val_acc: 0.9566\n",
      "Epoch 6/30\n",
      "55000/55000 [==============================] - 5s 89us/sample - loss: 0.1577 - acc: 0.9546 - val_loss: 0.1421 - val_acc: 0.9620\n",
      "Epoch 7/30\n",
      "55000/55000 [==============================] - 5s 87us/sample - loss: 0.1413 - acc: 0.9604 - val_loss: 0.1308 - val_acc: 0.9628\n",
      "Epoch 8/30\n",
      "55000/55000 [==============================] - 5s 90us/sample - loss: 0.1273 - acc: 0.9635 - val_loss: 0.1194 - val_acc: 0.9668\n",
      "Epoch 9/30\n",
      "55000/55000 [==============================] - 5s 85us/sample - loss: 0.1153 - acc: 0.9673 - val_loss: 0.1126 - val_acc: 0.9692\n",
      "Epoch 10/30\n",
      "55000/55000 [==============================] - 5s 84us/sample - loss: 0.1055 - acc: 0.9701 - val_loss: 0.1073 - val_acc: 0.9708\n",
      "Epoch 11/30\n",
      "55000/55000 [==============================] - 5s 84us/sample - loss: 0.0966 - acc: 0.9726 - val_loss: 0.0987 - val_acc: 0.9714\n",
      "Epoch 12/30\n",
      "55000/55000 [==============================] - 5s 91us/sample - loss: 0.0891 - acc: 0.9749 - val_loss: 0.0934 - val_acc: 0.9734\n",
      "Epoch 13/30\n",
      "55000/55000 [==============================] - 5s 88us/sample - loss: 0.0823 - acc: 0.9768 - val_loss: 0.0954 - val_acc: 0.9710\n",
      "Epoch 14/30\n",
      "55000/55000 [==============================] - 5s 86us/sample - loss: 0.0761 - acc: 0.9789 - val_loss: 0.0889 - val_acc: 0.9748\n",
      "Epoch 15/30\n",
      "55000/55000 [==============================] - 4s 76us/sample - loss: 0.0707 - acc: 0.9810 - val_loss: 0.0849 - val_acc: 0.9762\n",
      "Epoch 16/30\n",
      "55000/55000 [==============================] - 5s 88us/sample - loss: 0.0659 - acc: 0.9819 - val_loss: 0.0835 - val_acc: 0.9764\n",
      "Epoch 17/30\n",
      "55000/55000 [==============================] - 5s 88us/sample - loss: 0.0618 - acc: 0.9832 - val_loss: 0.0798 - val_acc: 0.9780\n",
      "Epoch 18/30\n",
      "55000/55000 [==============================] - 5s 89us/sample - loss: 0.0575 - acc: 0.9842 - val_loss: 0.0798 - val_acc: 0.9764\n",
      "Epoch 19/30\n",
      "55000/55000 [==============================] - 4s 71us/sample - loss: 0.0539 - acc: 0.9856 - val_loss: 0.0755 - val_acc: 0.9788\n",
      "Epoch 20/30\n",
      "55000/55000 [==============================] - 4s 73us/sample - loss: 0.0505 - acc: 0.9869 - val_loss: 0.0771 - val_acc: 0.9768\n",
      "Epoch 21/30\n",
      "55000/55000 [==============================] - 5s 93us/sample - loss: 0.0471 - acc: 0.9879 - val_loss: 0.0737 - val_acc: 0.9784\n",
      "Epoch 22/30\n",
      "55000/55000 [==============================] - 5s 88us/sample - loss: 0.0446 - acc: 0.9885 - val_loss: 0.0723 - val_acc: 0.9790\n",
      "Epoch 23/30\n",
      "55000/55000 [==============================] - 5s 85us/sample - loss: 0.0421 - acc: 0.9890 - val_loss: 0.0724 - val_acc: 0.9794\n",
      "Epoch 24/30\n",
      "55000/55000 [==============================] - 5s 85us/sample - loss: 0.0394 - acc: 0.9898 - val_loss: 0.0708 - val_acc: 0.9796\n",
      "Epoch 25/30\n",
      "55000/55000 [==============================] - 5s 91us/sample - loss: 0.0370 - acc: 0.9907 - val_loss: 0.0717 - val_acc: 0.9798\n",
      "Epoch 26/30\n",
      "55000/55000 [==============================] - 5s 92us/sample - loss: 0.0349 - acc: 0.9916 - val_loss: 0.0683 - val_acc: 0.9800\n",
      "Epoch 27/30\n",
      "55000/55000 [==============================] - 5s 87us/sample - loss: 0.0329 - acc: 0.9922 - val_loss: 0.0696 - val_acc: 0.9806\n",
      "Epoch 28/30\n",
      "55000/55000 [==============================] - 5s 89us/sample - loss: 0.0310 - acc: 0.9930 - val_loss: 0.0660 - val_acc: 0.9812\n",
      "Epoch 29/30\n",
      "55000/55000 [==============================] - 5s 87us/sample - loss: 0.0291 - acc: 0.9934 - val_loss: 0.0684 - val_acc: 0.9802\n",
      "Epoch 30/30\n",
      "55000/55000 [==============================] - 5s 84us/sample - loss: 0.0277 - acc: 0.9940 - val_loss: 0.0656 - val_acc: 0.9810\n"
     ]
    }
   ],
   "source": [
    "model_history = model.fit(x_train,y_train,epochs=30,validation_data=(x_valid,y_valid))"
   ]
  },
  {
   "cell_type": "code",
   "execution_count": 8,
   "id": "585c0978",
   "metadata": {},
   "outputs": [
    {
     "name": "stdout",
     "output_type": "stream",
     "text": [
      "5000/5000 [==============================] - 0s 49us/sample - loss: 0.0656 - acc: 0.9810\n"
     ]
    },
    {
     "data": {
      "text/plain": [
       "[0.06562727889679372, 0.981]"
      ]
     },
     "execution_count": 8,
     "metadata": {},
     "output_type": "execute_result"
    }
   ],
   "source": [
    "model.evaluate(x_valid,y_valid)"
   ]
  },
  {
   "cell_type": "code",
   "execution_count": 9,
   "id": "8eb994ea",
   "metadata": {},
   "outputs": [],
   "source": [
    "x_sample = x_test[:5]\n",
    "y_probability = model.predict(x_sample)"
   ]
  },
  {
   "cell_type": "code",
   "execution_count": 10,
   "id": "100aad82",
   "metadata": {},
   "outputs": [],
   "source": [
    "y_predict = model.predict_classes(x_sample)"
   ]
  },
  {
   "cell_type": "code",
   "execution_count": null,
   "id": "7c25163a",
   "metadata": {},
   "outputs": [],
   "source": []
  }
 ],
 "metadata": {
  "kernelspec": {
   "display_name": "Python 3",
   "language": "python",
   "name": "python3"
  },
  "language_info": {
   "codemirror_mode": {
    "name": "ipython",
    "version": 3
   },
   "file_extension": ".py",
   "mimetype": "text/x-python",
   "name": "python",
   "nbconvert_exporter": "python",
   "pygments_lexer": "ipython3",
   "version": "3.6.6"
  }
 },
 "nbformat": 4,
 "nbformat_minor": 5
}
